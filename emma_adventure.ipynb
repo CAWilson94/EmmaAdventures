{
 "cells": [
  {
   "cell_type": "markdown",
   "metadata": {},
   "source": [
    "# PYTHON START HERE PLEASE\n"
   ]
  },
  {
   "cell_type": "markdown",
   "metadata": {},
   "source": [
    "Hello there, the first thing to do is print the name and author of your favourite book... here I will go first... \n",
    "\n",
    "print(\"The name of the wind by Patrick Rothfuss\") "
   ]
  },
  {
   "cell_type": "code",
   "execution_count": 9,
   "metadata": {
    "collapsed": false
   },
   "outputs": [
    {
     "name": "stdout",
     "output_type": "stream",
     "text": [
      "The name of the wind by Patrick BOP\n"
     ]
    }
   ],
   "source": [
    "print(\"The name of the wind by Patrick Rothfuss\")\n",
    "\n",
    "# go for it just put your print under here and press SHIFT + ENTER to run it!"
   ]
  },
  {
   "cell_type": "markdown",
   "metadata": {},
   "source": [
    "Next, lets make a list of our favourite books and a list of the corresponding authors... \n"
   ]
  },
  {
   "cell_type": "code",
   "execution_count": 28,
   "metadata": {
    "collapsed": false
   },
   "outputs": [
    {
     "name": "stdout",
     "output_type": "stream",
     "text": [
      "my fave books are: ['name of the wind', 'of mice and men', 'assassins apprentice'] \n",
      "\n",
      "the authors of those books are: ['patrick rothfuss', 'john steinbeck', 'robin hobb']\n"
     ]
    }
   ],
   "source": [
    "fave_books = [\"name of the wind\", \"of mice and men\", \"assassins apprentice\"]\n",
    "\n",
    "fave_authors = [\"patrick rothfuss\", \"john steinbeck\", \"robin hobb\"]\n",
    "\n",
    "# lets have a wee look at what we have... \n",
    "print(\"my fave books are:\", fave_books, \"\\n\")\n",
    "print(\"the authors of those books are:\", fave_authors)\n",
    "\n",
    "# do the same under here :D then run!"
   ]
  },
  {
   "cell_type": "markdown",
   "metadata": {},
   "source": [
    "Lets access some values from the lists... \n",
    "\n",
    "You can access values in different ways E.g\n"
   ]
  },
  {
   "cell_type": "code",
   "execution_count": 44,
   "metadata": {
    "collapsed": false
   },
   "outputs": [
    {
     "name": "stdout",
     "output_type": "stream",
     "text": [
      "first position book:  name of the wind\n",
      "second position book:  of mice and men\n",
      "last position book:  assassins apprentice\n",
      "second last position book:  of mice and men\n",
      "first to second position books: ['name of the wind', 'of mice and men']\n",
      "first to second position books: ['of mice and men']\n"
     ]
    }
   ],
   "source": [
    "print(\"first position book: \", fave_books[0])\n",
    "print(\"second position book: \", fave_books[1])\n",
    "print(\"last position book: \", fave_books[-1])\n",
    "print(\"second last position book: \", fave_books[-2])\n",
    "# SLICING WOOO \n",
    "print(\"first to second position books:\", fave_books[:2]) # sublist from 0th element to the 2nd (same as doing [0:2])\n",
    "print(\"first to second position books:\", fave_books[1:2]) # sublist from 2nd element to the 2nd (same as doing [0:2])\n",
    "\n",
    "# Have a play about with your book or authors list and see what items you can access in similar ways :) "
   ]
  },
  {
   "cell_type": "markdown",
   "metadata": {},
   "source": [
    "There are a few more operations we can do on arrays.. such as...\n",
    "\n",
    "(1) checking LENGTH of list **len(list)**\n",
    "\n",
    "(2) look for item in list ** google \" find item in python list\" **\n",
    "\n",
    "(3) adding another item to the end of a list **list.append(element)**\n",
    "\n",
    "(4) inserting an item into the list **list.insert(index, element)**\n",
    "\n",
    "(5) removing item from a list **list.remove(element)**\n",
    "\n",
    "(6) sorting a list **list.sort()**\n",
    "\n",
    "\n",
    "\n",
    "Probably a lot more too ... \n",
    "\n",
    "\n"
   ]
  },
  {
   "cell_type": "code",
   "execution_count": 45,
   "metadata": {
    "collapsed": true
   },
   "outputs": [],
   "source": [
    "# Give the above operations a wee go here... "
   ]
  },
  {
   "cell_type": "markdown",
   "metadata": {},
   "source": [
    "# # DICTIONARIES BITCH\n",
    "\n"
   ]
  },
  {
   "cell_type": "markdown",
   "metadata": {},
   "source": [
    "You might have noticed, there is nothing connecting your book to your author.. e.g. if I wanted to say something like my fave book is Name of the wind by Patrick Rothfuss I would have to do something like ... \n"
   ]
  },
  {
   "cell_type": "code",
   "execution_count": 27,
   "metadata": {
    "collapsed": false
   },
   "outputs": [
    {
     "name": "stdout",
     "output_type": "stream",
     "text": [
      "My favourite book is  name of the wind  by  patrick rothfuss\n"
     ]
    }
   ],
   "source": [
    "print(\"My favourite book is \", fave_books[0], \" by \", fave_authors[0] )\n",
    "\n",
    "# Print our your favourite book and author like above ^^ "
   ]
  },
  {
   "cell_type": "markdown",
   "metadata": {},
   "source": [
    "This is super easy to fuck up! Imagine you knew which position your book was in but didnt know about the author position... \n",
    "\n"
   ]
  },
  {
   "cell_type": "code",
   "execution_count": 25,
   "metadata": {
    "collapsed": false
   },
   "outputs": [
    {
     "name": "stdout",
     "output_type": "stream",
     "text": [
      "My favourite book is  name of the wind  by  robin hobb\n"
     ]
    }
   ],
   "source": [
    "print(\"My favourite book is \", fave_books[0], \" by \", fave_authors[2])\n"
   ]
  },
  {
   "cell_type": "markdown",
   "metadata": {},
   "source": [
    "Well fuck, thats not right is it? We need a way to MAP the books to their authors. So we want to be able to look up the author name by book title. "
   ]
  },
  {
   "cell_type": "markdown",
   "metadata": {},
   "source": [
    "Lets level tf up and try out DICTIONARIES! \n",
    "\n"
   ]
  },
  {
   "cell_type": "code",
   "execution_count": 26,
   "metadata": {
    "collapsed": true
   },
   "outputs": [],
   "source": [
    "books = {\"The Name of the Wind\": \"Patrick Rothfuss\", \"Of Mice and Men\": \"John Steinbeck\", \"Assassins Apprentice\": \"Robin Hobb\"}\n"
   ]
  },
  {
   "cell_type": "markdown",
   "metadata": {},
   "source": [
    "Lets try a few things here: \n",
    "\n",
    "(1) Make your own books and authors dictionary\n",
    "\n",
    "(2) Look for an author by giving a book value e.g. books[\"The Name of the Wind\"] should return \"Patrick Rothfuss\"\n",
    "\n",
    "(3) Simply print the dictionary... \n",
    "\n",
    "(4) See if a certain author is in the dictionary (the authors should be the values) e.g. ** \"Patrick Rothfuss\" is in books.values()** should return True \n",
    "\n",
    "(5) See if a certain book is in the dictionary. This time we are looking for keys instead of values... \n",
    "\n",
    "(6) Delete an item in the dictionary ** del books[\"some key here\"]** \n",
    "\n",
    "(7) return list of authors (or values) ** list(books.values())** \n",
    "\n",
    "(8) return list of books (or keys) in the same way as above \n",
    "\n",
    "(9) return a SORTED list of authors and a sorted list of books ** sorted(stuff to be sorted)**\n",
    "\n",
    "\n"
   ]
  },
  {
   "cell_type": "code",
   "execution_count": null,
   "metadata": {
    "collapsed": true
   },
   "outputs": [],
   "source": [
    "# Give this shit a go here :) "
   ]
  },
  {
   "cell_type": "markdown",
   "metadata": {},
   "source": [
    "# # MATPLOTLIB "
   ]
  },
  {
   "cell_type": "markdown",
   "metadata": {},
   "source": [
    "Matplotlib is a real nice library for plotting, you guessed it, graphs! \n"
   ]
  },
  {
   "cell_type": "code",
   "execution_count": 52,
   "metadata": {
    "collapsed": false
   },
   "outputs": [
    {
     "data": {
      "image/png": "[encoded data removed]",
      "text/plain": [
       "<matplotlib.figure.Figure at 0x1d410177860>"
      ]
     },
     "metadata": {},
     "output_type": "display_data"
    }
   ],
   "source": [
    "import matplotlib.pyplot as plt # first we import the library fuck yes! \n",
    "\n",
    "plt.plot([1,2,3,4]) # just throwing out some numbers to plot ... \n",
    "plt.ylabel('some numbers') # give our plot a magical name \n",
    "plt.show() # show yourself foul plot! \n",
    "\n",
    "# How would you add an x axis label here? -- > remembering you need to do it before the show function ;) \n",
    "\n"
   ]
  },
  {
   "cell_type": "markdown",
   "metadata": {},
   "source": [
    "I couldnt delete this tile ... so its still here... "
   ]
  },
  {
   "cell_type": "markdown",
   "metadata": {},
   "source": [
    "Have you noticed the x axis ranges from 0 - 3 and the y axis goes from 1 - 4 (wtf right?) \n",
    "If you provide a single list or array to the plot() function, matplot lib assumes it is a sequence of y values and auto generates the x values for you. \n",
    "\n",
    "Since python ranges start with 0, the default x vector has the same length as y but starts at 0 so we get x data as [0, 1, 2, 3]\n",
    "\n",
    "**INDEXING AT ZERO BABY**"
   ]
  },
  {
   "cell_type": "markdown",
   "metadata": {},
   "source": [
    "Just so you know, you can import libraries and such and call them whatever you want....\n",
    "Before we said import matplotlib.pyplot as plt --> this means import the pyplot package from matplotlib and when we want to reference it we use plt to do so.. you could call this something like bob if you wanted.. "
   ]
  },
  {
   "cell_type": "code",
   "execution_count": 54,
   "metadata": {
    "collapsed": false
   },
   "outputs": [
    {
     "data": {
      "image/png": "[encoded data removed]",
      "text/plain": [
       "<matplotlib.figure.Figure at 0x1d4102b3a20>"
      ]
     },
     "metadata": {},
     "output_type": "display_data"
    }
   ],
   "source": [
    "import matplotlib.pyplot as bob\n",
    "\n",
    "bob.plot([1, 200, 233, 44]) # its getting wild in here right?\n",
    "bob.ylabel('MORE NUMBERS')\n",
    "bob.xlabel('THESE ARE X LABELS FEAR THEM')\n",
    "bob.show() # BOB IS SHOWING HIMSELF AGAIN STOP IT "
   ]
  },
  {
   "cell_type": "markdown",
   "metadata": {},
   "source": [
    "You can do plotting for x versus y by just doing plt.plot(x_values, y_values ) \n",
    "\n",
    "There is also a third argument you can use which is the format string that indicates colour and line type of the plot. \n",
    "\n",
    "The letters and symbols are from MATLAB (I am sorry) and you add the colour to the lin style. \n",
    "\n",
    "The default is 'b-' which is a solid blue line but for example, a plot with x vs y and red circles you would do... "
   ]
  },
  {
   "cell_type": "code",
   "execution_count": 58,
   "metadata": {
    "collapsed": false
   },
   "outputs": [
    {
     "data": {
      "image/png": "[encoded data removed]",
      "text/plain": [
       "<matplotlib.figure.Figure at 0x1d410478c50>"
      ]
     },
     "metadata": {},
     "output_type": "display_data"
    }
   ],
   "source": [
    "import matplotlib.pyplot as plt\n",
    "plt.plot([1,2,3,4], [1,4,9,16], 'ro')\n",
    "plt.axis([0, 6, 0, 20])\n",
    "plt.show()\n"
   ]
  },
  {
   "cell_type": "markdown",
   "metadata": {},
   "source": [
    "Of course you can make the lists before you plot like this... \n",
    "\n"
   ]
  },
  {
   "cell_type": "code",
   "execution_count": 66,
   "metadata": {
    "collapsed": false
   },
   "outputs": [
    {
     "data": {
      "image/png": "[encoded data removed]",
      "text/plain": [
       "<matplotlib.figure.Figure at 0x1d41050ee10>"
      ]
     },
     "metadata": {},
     "output_type": "display_data"
    }
   ],
   "source": [
    "x_axis_nums = [1,2,3,9, 9.987]\n",
    "y_axis_nums = [1,4,5,5, 8]\n",
    "axis_ranges = [0, 10, 2, 10] # here we do [x start, x end, y start, y end]\n",
    "plt.plot(x_axis_nums, y_axis_nums)\n",
    "plt.axis(axis_ranges)\n",
    "plt.show()\n",
    "# this is a bit of a sad looking graph.. why not change the color of the line and the shapes?"
   ]
  },
  {
   "cell_type": "markdown",
   "metadata": {},
   "source": [
    "# # NA NA NA NA NA NA NUMPY! "
   ]
  },
  {
   "cell_type": "markdown",
   "metadata": {},
   "source": [
    "There is a magical thing called numpy which has support for some matrices and other shit.. lets just accept its a cool thing for now. \n",
    "\n",
    "The example below shows plotting a few lines with different format styles in one command using.. ARRAYS :D \n",
    "\n"
   ]
  },
  {
   "cell_type": "code",
   "execution_count": 72,
   "metadata": {
    "collapsed": false
   },
   "outputs": [
    {
     "data": {
      "image/png": "[encoded data removed]",
      "text/plain": [
       "<matplotlib.figure.Figure at 0x1d410204c88>"
      ]
     },
     "metadata": {},
     "output_type": "display_data"
    }
   ],
   "source": [
    "import numpy as np # np is a standard name for the import yo\n",
    "import matplotlib.pyplot as plt\n",
    "\n",
    "# even sample time at 200ms intervals \n",
    "t = np.arange(0., 5., 0.2) # No idea how you would do this otherwise... \n",
    "\n",
    "# red dasges, blue squares and green triangles --> sexy\n",
    "\n",
    "plt.plot(t, t, 'r--', t, t**2, 'bs', t, t**3 , 'g^')\n",
    "plt.show() # get ready for some nice things \n"
   ]
  },
  {
   "cell_type": "markdown",
   "metadata": {},
   "source": [
    "# TO BE CONTINUED..."
   ]
  },
  {
   "cell_type": "code",
   "execution_count": null,
   "metadata": {
    "collapsed": true
   },
   "outputs": [],
   "source": []
  }
 ],
 "metadata": {
  "kernelspec": {
   "display_name": "Python 3",
   "language": "python",
   "name": "python3"
  },
  "language_info": {
   "codemirror_mode": {
    "name": "ipython",
    "version": 3
   },
   "file_extension": ".py",
   "mimetype": "text/x-python",
   "name": "python",
   "nbconvert_exporter": "python",
   "pygments_lexer": "ipython3",
   "version": "3.6.0"
  }
 },
 "nbformat": 4,
 "nbformat_minor": 2
}
